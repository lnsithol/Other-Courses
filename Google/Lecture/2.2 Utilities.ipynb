{
 "metadata": {
  "name": "",
  "signature": "sha256:3317ef203304ffcc1075ec23feb0e639d0d6928c03b10dc5a07fbf41bbae71f8"
 },
 "nbformat": 3,
 "nbformat_minor": 0,
 "worksheets": [
  {
   "cells": [
    {
     "cell_type": "markdown",
     "metadata": {},
     "source": [
      "#Table of Contents\n",
      "* [os module](#os-module)\n",
      "\t* [listdir()](#listdir%28%29)\n",
      "\t* [os.path](#os.path)\n",
      "* [shutil](#shutil)\n",
      "\t* [commands](#commands)\n",
      "* [Exceptions (Catch errors at runtime)](#Exceptions-%28Catch-errors-at-runtime%29)\n",
      "* [Import Written Code](#Import-Written-Code)\n",
      "* [urllib](#urllib)\n"
     ]
    },
    {
     "cell_type": "markdown",
     "metadata": {},
     "source": [
      "URL:\n",
      "- https://developers.google.com/edu/python/utilities"
     ]
    },
    {
     "cell_type": "heading",
     "level": 1,
     "metadata": {},
     "source": [
      "os module"
     ]
    },
    {
     "cell_type": "markdown",
     "metadata": {},
     "source": [
      "The *os* and *os.path* modules include many functions to interact with the file system"
     ]
    },
    {
     "cell_type": "heading",
     "level": 2,
     "metadata": {},
     "source": [
      "listdir()"
     ]
    },
    {
     "cell_type": "code",
     "collapsed": false,
     "input": [
      "import os\n",
      "help(os.listdir)"
     ],
     "language": "python",
     "metadata": {},
     "outputs": [
      {
       "output_type": "stream",
       "stream": "stdout",
       "text": [
        "Help on built-in function listdir in module nt:\n",
        "\n",
        "listdir(...)\n",
        "    listdir(path) -> list_of_strings\n",
        "    \n",
        "    Return a list containing the names of the entries in the directory.\n",
        "    \n",
        "        path: path of directory to list\n",
        "    \n",
        "    The list is in arbitrary order.  It does not include the special\n",
        "    entries '.' and '..' even if they are present in the directory.\n",
        "\n"
       ]
      }
     ],
     "prompt_number": 4
    },
    {
     "cell_type": "code",
     "collapsed": false,
     "input": [
      "!python C:/Vindico/Projects/Code/Python/Course/Google/Lecture/List.py ."
     ],
     "language": "python",
     "metadata": {},
     "outputs": [
      {
       "output_type": "stream",
       "stream": "stdout",
       "text": [
        ".\\.ipynb_checkpoints\n",
        "C:\\Users\\tvu\\Documents\\IPython Notebooks\\Course\\Others\\Google\\Lecture\\.ipynb_checkpoints\n",
        ".\\1.1 Introduction, strings.ipynb\n",
        "C:\\Users\\tvu\\Documents\\IPython Notebooks\\Course\\Others\\Google\\Lecture\\1.1 Introduction, strings.ipynb\n",
        ".\\1.2 List and Sorting.ipynb\n",
        "C:\\Users\\tvu\\Documents\\IPython Notebooks\\Course\\Others\\Google\\Lecture\\1.2 List and Sorting.ipynb\n",
        ".\\1.3 Dicts and files.ipynb\n",
        "C:\\Users\\tvu\\Documents\\IPython Notebooks\\Course\\Others\\Google\\Lecture\\1.3 Dicts and files.ipynb\n",
        ".\\2.1 Regular Expressions.ipynb\n",
        "C:\\Users\\tvu\\Documents\\IPython Notebooks\\Course\\Others\\Google\\Lecture\\2.1 Regular Expressions.ipynb\n",
        ".\\2.2 Utilities.ipynb\n",
        "C:\\Users\\tvu\\Documents\\IPython Notebooks\\Course\\Others\\Google\\Lecture\\2.2 Utilities.ipynb\n"
       ]
      }
     ],
     "prompt_number": 11
    },
    {
     "cell_type": "heading",
     "level": 2,
     "metadata": {},
     "source": [
      "os.path"
     ]
    },
    {
     "cell_type": "code",
     "collapsed": false,
     "input": [
      "os.path.exists('C:/temp')"
     ],
     "language": "python",
     "metadata": {},
     "outputs": [
      {
       "metadata": {},
       "output_type": "pyout",
       "prompt_number": 13,
       "text": [
        "True"
       ]
      }
     ],
     "prompt_number": 13
    },
    {
     "cell_type": "code",
     "collapsed": false,
     "input": [
      "os.path.exists('C:/abc')"
     ],
     "language": "python",
     "metadata": {},
     "outputs": [
      {
       "metadata": {},
       "output_type": "pyout",
       "prompt_number": 14,
       "text": [
        "False"
       ]
      }
     ],
     "prompt_number": 14
    },
    {
     "cell_type": "heading",
     "level": 1,
     "metadata": {},
     "source": [
      "shutil"
     ]
    },
    {
     "cell_type": "markdown",
     "metadata": {},
     "source": [
      "The *shutil* module can copy files"
     ]
    },
    {
     "cell_type": "code",
     "collapsed": false,
     "input": [
      "import shutil\n",
      "#shutil.copy(source, dest) # copy file from a source to other destination"
     ],
     "language": "python",
     "metadata": {},
     "outputs": [],
     "prompt_number": 15
    },
    {
     "cell_type": "heading",
     "level": 2,
     "metadata": {},
     "source": [
      "commands"
     ]
    },
    {
     "cell_type": "markdown",
     "metadata": {},
     "source": [
      "The *commands* module is a simple way to run an external command and capture its output."
     ]
    },
    {
     "cell_type": "code",
     "collapsed": false,
     "input": [
      "import commands\n",
      "help(commands.getstatusoutput)"
     ],
     "language": "python",
     "metadata": {},
     "outputs": [
      {
       "output_type": "stream",
       "stream": "stdout",
       "text": [
        "Help on function getstatusoutput in module commands:\n",
        "\n",
        "getstatusoutput(cmd)\n",
        "    Return (status, output) of executing cmd in a shell.\n",
        "\n"
       ]
      }
     ],
     "prompt_number": 17
    },
    {
     "cell_type": "code",
     "collapsed": false,
     "input": [
      "!python C:/Vindico/Projects/Code/Python/Course/Google/Lecture/Status.py ."
     ],
     "language": "python",
     "metadata": {},
     "outputs": [
      {
       "output_type": "stream",
       "stream": "stdout",
       "text": [
        "None\n"
       ]
      },
      {
       "output_type": "stream",
       "stream": "stderr",
       "text": [
        "there was an error:'{' is not recognized as an internal or external command,\n",
        "operable program or batch file.\n"
       ]
      }
     ],
     "prompt_number": 24
    },
    {
     "cell_type": "heading",
     "level": 1,
     "metadata": {},
     "source": [
      "Exceptions (Catch errors at runtime)"
     ]
    },
    {
     "cell_type": "markdown",
     "metadata": {},
     "source": [
      "An exception represents a run-time error that halts the normal execution at a particular line and transfers control to error handling code. This section just introduces the most basic uses of exceptions. For example a run-time error might be that a variable used in the program does not have a value (ValueError .. you've probably seen that one a few times), or a file open operation error because that a does not exist (IOError). (See [[http://docs.python.org/tut/node10.html][exception docs]])\n",
      "\n",
      "Without any error handling code (as we have done thus far), a run-time exception just halts the program with an error message. That's a good default behavior, and you've seen it many times. You can add a \"try/except\" structure to your code to handle exceptions"
     ]
    },
    {
     "cell_type": "code",
     "collapsed": false,
     "input": [
      "!python C:/Vindico/Projects/Code/Python/Course/Google/Lecture/Cat2.py nosuch.txt C:/Vindico/Projects/Code/Python/Course/Google/Lecture/Hello.py "
     ],
     "language": "python",
     "metadata": {},
     "outputs": [
      {
       "output_type": "stream",
       "stream": "stdout",
       "text": [
        "IO Error nosuch.txt\n",
        "--- C:/Vindico/Projects/Code/Python/Course/Google/Lecture/Hello.py\n",
        "# -*- coding: utf-8 -*-\n",
        "\"\"\"\n",
        "Created on Wed Mar 04 09:38:07 2015\n",
        "\n",
        "@author: tvu\n",
        "\"\"\"\n",
        "#!/usr/bin/env python\n",
        "\n",
        "# import modules used here -- sys is a very standard one\n",
        "import sys\n",
        "\n",
        "def Hello(name):\n",
        "    if name == 'Alice' or name == 'Nick':\n",
        "        name = name + '???'\n",
        "    else:\n",
        "        DoesNotExist(name)\n",
        "    name = name + \"!!!!!\"\n",
        "    print 'Hello', name\n",
        "\n",
        "# Gather our code in a main() function\n",
        "def main():\n",
        "    \n",
        "    Hello(sys.argv[1])\n",
        "    # Command line args are in sys.argv[1], sys.argv[2] ...\n",
        "    # sys.argv[0] is the script name itself and can be ignored\n",
        "\n",
        "# Standard boilerplate to call the main() function to begin\n",
        "# the program.\n",
        "if __name__ == '__main__':\n",
        "    main()\n"
       ]
      }
     ],
     "prompt_number": 35
    },
    {
     "cell_type": "heading",
     "level": 1,
     "metadata": {},
     "source": [
      "Import Written Code"
     ]
    },
    {
     "cell_type": "code",
     "collapsed": false,
     "input": [
      "import os\n",
      "os.chdir('C:/Vindico/Projects/Code/Python/Course/Google/Exercise/babynames/solution')\n",
      "os.getcwd()"
     ],
     "language": "python",
     "metadata": {},
     "outputs": [
      {
       "metadata": {},
       "output_type": "pyout",
       "prompt_number": 1,
       "text": [
        "'C:\\\\Vindico\\\\Projects\\\\Code\\\\Python\\\\Course\\\\Google\\\\Exercise\\\\babynames\\\\solution'"
       ]
      }
     ],
     "prompt_number": 1
    },
    {
     "cell_type": "code",
     "collapsed": false,
     "input": [
      "import babynames\n",
      "\n",
      "dir(babynames)"
     ],
     "language": "python",
     "metadata": {},
     "outputs": [
      {
       "metadata": {},
       "output_type": "pyout",
       "prompt_number": 2,
       "text": [
        "['__builtins__',\n",
        " '__doc__',\n",
        " '__file__',\n",
        " '__name__',\n",
        " '__package__',\n",
        " 'extract_names',\n",
        " 'main',\n",
        " 're',\n",
        " 'sys']"
       ]
      }
     ],
     "prompt_number": 2
    },
    {
     "cell_type": "code",
     "collapsed": false,
     "input": [
      "help(babynames.extract_names)"
     ],
     "language": "python",
     "metadata": {},
     "outputs": [
      {
       "output_type": "stream",
       "stream": "stdout",
       "text": [
        "Help on function extract_names in module babynames:\n",
        "\n",
        "extract_names(filename)\n",
        "    Given a file name for baby.html, returns a list starting with the year string\n",
        "    followed by the name-rank strings in alphabetical order.\n",
        "    ['2006', 'Aaliyah 91', Aaron 57', 'Abagail 895', ' ...]\n",
        "\n"
       ]
      }
     ],
     "prompt_number": 3
    },
    {
     "cell_type": "code",
     "collapsed": false,
     "input": [
      "list = babynames.extract_names('../baby1990.html')\n",
      "list[0:10]"
     ],
     "language": "python",
     "metadata": {},
     "outputs": [
      {
       "metadata": {},
       "output_type": "pyout",
       "prompt_number": 7,
       "text": [
        "['1990',\n",
        " 'Aaron 34',\n",
        " 'Abbey 482',\n",
        " 'Abbie 685',\n",
        " 'Abby 222',\n",
        " 'Abdul 934',\n",
        " 'Abel 384',\n",
        " 'Abigail 90',\n",
        " 'Abraham 246',\n",
        " 'Abram 920']"
       ]
      }
     ],
     "prompt_number": 7
    },
    {
     "cell_type": "heading",
     "level": 1,
     "metadata": {},
     "source": [
      "urllib"
     ]
    },
    {
     "cell_type": "markdown",
     "metadata": {},
     "source": [
      "HTTP -- urllib\n",
      "- The module *urllib* provides url fetching -- making a url look like a file you can read form. The *urlparse* module can take apart and put together urls."
     ]
    },
    {
     "cell_type": "code",
     "collapsed": false,
     "input": [
      "import urllib\n",
      "uf = urllib.urlopen('http://google.com')\n",
      "uf.read()"
     ],
     "language": "python",
     "metadata": {},
     "outputs": [
      {
       "metadata": {},
       "output_type": "pyout",
       "prompt_number": 8,
       "text": [
        "'<!doctype html><html itemscope=\"\" itemtype=\"http://schema.org/WebPage\" lang=\"en\"><head><meta content=\"Search the world\\'s information, including webpages, images, videos and more. Google has many special features to help you find exactly what you\\'re looking for.\" name=\"description\"><meta content=\"noodp\" name=\"robots\"><meta content=\"/images/google_favicon_128.png\" itemprop=\"image\"><title>Google</title><script>(function(){window.google={kEI:\\'26r7VNWHCYHuoATTrYHACw\\',kEXPI:\\'3700305,3700362,3700366,4010073,4011559,4013605,4017578,4020347,4020562,4020874,4023678,4024681,4028585,4028717,4028931,4029054,4029155,4029515,4029783,4029830,4029961,4030155,4030440,8300095,8500394,8500852,8500973,10200083,10200095\\',authuser:0,kSID:\\'26r7VNWHCYHuoATTrYHACw\\'};google.kHL=\\'en\\';})();(function(){google.lc=[];google.li=0;google.getEI=function(a){for(var b;a&&(!a.getAttribute||!(b=a.getAttribute(\"eid\")));)a=a.parentNode;return b||google.kEI};google.getLEI=function(a){for(var b=null;a&&(!a.getAttribute||!(b=a.getAttribute(\"leid\")));)a=a.parentNode;return b};google.https=function(){return\"https:\"==window.location.protocol};google.ml=function(){};google.time=function(){return(new Date).getTime()};google.log=function(a,b,e,f,l){var d=new Image,h=google.lc,g=google.li,c=\"\",m=google.ls||\"\";d.onerror=d.onload=d.onabort=function(){delete h[g]};h[g]=d;if(!e&&-1==b.search(\"&ei=\")){var k=google.getEI(f),c=\"&ei=\"+k;-1==b.search(\"&lei=\")&&((f=google.getLEI(f))?c+=\"&lei=\"+f:k!=google.kEI&&(c+=\"&lei=\"+google.kEI))}a=e||\"/\"+(l||\"gen_204\")+\"?atyp=i&ct=\"+a+\"&cad=\"+b+c+m+\"&zx=\"+google.time();/^http:/i.test(a)&&google.https()?(google.ml(Error(\"a\"),!1,{src:a,glmm:1}),delete h[g]):(d.src=a,google.li=g+1)};google.y={};google.x=function(a,b){google.y[a.id]=[a,b];return!1};google.load=function(a,b,e){google.x({id:a+n++},function(){google.load(a,b,e)})};var n=0;})();google.kCSI={};var _gjwl=location;function _gjuc(){var a=_gjwl.href.indexOf(\"#\");if(0<=a&&(a=_gjwl.href.substring(a),0<a.indexOf(\"&q=\")||0<=a.indexOf(\"#q=\"))&&(a=a.substring(1),-1==a.indexOf(\"#\"))){for(var d=0;d<a.length;){var b=d;\"&\"==a.charAt(b)&&++b;var c=a.indexOf(\"&\",b);-1==c&&(c=a.length);b=a.substring(b,c);if(0==b.indexOf(\"fp=\"))a=a.substring(0,d)+a.substring(c,a.length),c=d;else if(\"cad=h\"==b)return 0;d=c}_gjwl.href=\"/search?\"+a+\"&cad=h\";return 1}return 0}\\nfunction _gjh(){!_gjuc()&&window.google&&google.x&&google.x({id:\"GJH\"},function(){google.nav&&google.nav.gjh&&google.nav.gjh()})};window._gjh&&_gjh();</script><style>#gbar,#guser{font-size:13px;padding-top:1px !important;}#gbar{height:22px}#guser{padding-bottom:7px !important;text-align:right}.gbh,.gbd{border-top:1px solid #c9d7f1;font-size:1px}.gbh{height:0;position:absolute;top:24px;width:100%}@media all{.gb1{height:22px;margin-right:.5em;vertical-align:top}#gbar{float:left}}a.gb1,a.gb4{text-decoration:underline !important}a.gb1,a.gb4{color:#00c !important}.gbi .gb4{color:#dd8e27 !important}.gbf .gb4{color:#900 !important}</style><style>body,td,a,p,.h{font-family:arial,sans-serif}body{margin:0;overflow-y:scroll}#gog{padding:3px 8px 0}td{line-height:.8em}.gac_m td{line-height:17px}form{margin-bottom:20px}.h{color:#36c}.q{color:#00c}.ts td{padding:0}.ts{border-collapse:collapse}em{font-weight:bold;font-style:normal}.lst{height:25px;width:496px}.gsfi,.lst{font:18px arial,sans-serif}.gsfs{font:17px arial,sans-serif}.ds{display:inline-box;display:inline-block;margin:3px 0 4px;margin-left:4px}input{font-family:inherit}a.gb1,a.gb2,a.gb3,a.gb4{color:#11c !important}body{background:#fff;color:black}a{color:#11c;text-decoration:none}a:hover,a:active{text-decoration:underline}.fl a{color:#36c}a:visited{color:#551a8b}a.gb1,a.gb4{text-decoration:underline}a.gb3:hover{text-decoration:none}#ghead a.gb2:hover{color:#fff !important}.sblc{padding-top:5px}.sblc a{display:block;margin:2px 0;margin-left:13px;font-size:11px}.lsbb{background:#eee;border:solid 1px;border-color:#ccc #999 #999 #ccc;height:30px}.lsbb{display:block}.ftl,#fll a{display:inline-block;margin:0 12px}.lsb{background:url(/images/srpr/nav_logo80.png) 0 -258px repeat-x;border:none;color:#000;cursor:pointer;height:30px;margin:0;outline:0;font:15px arial,sans-serif;vertical-align:top}.lsb:active{background:#ccc}.lst:focus{outline:none}</style><script></script></head><body bgcolor=\"#fff\"><script>(function(){var src=\\'/images/nav_logo176.png\\';var iesg=false;document.body.onload = function(){window.n && window.n();if (document.images){new Image().src=src;}\\nif (!iesg){document.f&&document.f.q.focus();document.gbqf&&document.gbqf.q.focus();}\\n}\\n})();</script><div id=\"mngb\">    <div id=gbar><nobr><b class=gb1>Search</b> <a class=gb1 href=\"http://www.google.com/imghp?hl=en&tab=wi\">Images</a> <a class=gb1 href=\"http://maps.google.com/maps?hl=en&tab=wl\">Maps</a> <a class=gb1 href=\"https://play.google.com/?hl=en&tab=w8\">Play</a> <a class=gb1 href=\"http://www.youtube.com/?tab=w1\">YouTube</a> <a class=gb1 href=\"http://news.google.com/nwshp?hl=en&tab=wn\">News</a> <a class=gb1 href=\"https://mail.google.com/mail/?tab=wm\">Gmail</a> <a class=gb1 href=\"https://drive.google.com/?tab=wo\">Drive</a> <a class=gb1 style=\"text-decoration:none\" href=\"http://www.google.com/intl/en/options/\"><u>More</u> &raquo;</a></nobr></div><div id=guser width=100%><nobr><span id=gbn class=gbi></span><span id=gbf class=gbf></span><span id=gbe></span><a href=\"http://www.google.com/history/optout?hl=en\" class=gb4>Web History</a> | <a  href=\"/preferences?hl=en\" class=gb4>Settings</a> | <a target=_top id=gb_70 href=\"https://accounts.google.com/ServiceLogin?hl=en&continue=http://www.google.com/\" class=gb4>Sign in</a></nobr></div><div class=gbh style=left:0></div><div class=gbh style=right:0></div>    </div><center><span id=\"prt\" style=\"display:block\"> <div><style>.pmoabs{background-color:#fff;border:1px solid #E5E5E5;color:#666;font-size:13px;padding-bottom:20px;position:absolute;right:2px;top:3px;z-index:986}#pmolnk{border-radius:2px;-moz-border-radius:2px;-webkit-border-radius:2px}.kd-button-submit{border:1px solid #3079ed;background-color:#4d90fe;background-image:-webkit-gradient(linear,left top,left bottom,from(#4d90fe),to(#4787ed));background-image:-webkit-linear-gradient(top,#4d90fe,#4787ed);background-image:-moz-linear-gradient(top,#4d90fe,#4787ed);background-image:-ms-linear-gradient(top,#4d90fe,#4787ed);background-image:-o-linear-gradient(top,#4d90fe,#4787ed);background-image:linear-gradient(top,#4d90fe,#4787ed);filter:progid:DXImageTransform.Microsoft.gradient(startColorStr=\\'#4d90fe\\',EndColorStr=\\'#4787ed\\')}.kd-button-submit:hover{border:1px solid #2f5bb7;background-color:#357ae8;background-image:-webkit-gradient(linear,left top,left bottom,from(#4d90fe),to(#357ae8));background-image:-webkit-linear-gradient(top,#4d90fe,#357ae8);background-image:-moz-linear-gradient(top,#4d90fe,#357ae8);background-image:-ms-linear-gradient(top,#4d90fe,#357ae8);background-image:-o-linear-gradient(top,#4d90fe,#357ae8);background-image:linear-gradient(top,#4d90fe,#357ae8);filter:progid:DXImageTransform.Microsoft.gradient(startColorStr=\\'#4d90fe\\',EndColorStr=\\'#357ae8\\')}.kd-button-submit:active{-webkit-box-shadow:inset 0 1px 2px rgba(0,0,0,0.3);-moz-box-shadow:inset 0 1px 2px rgba(0,0,0,0.3);box-shadow:inset 0 1px 2px rgba(0,0,0,0.3)}#pmolnk a{color:#fff;display:inline-block;font-weight:bold;padding:5px 20px;text-decoration:none;white-space:nowrap}.xbtn{color:#999;cursor:pointer;font-size:23px;line-height:5px;padding-top:5px}.padi{padding:0 8px 0 10px}.padt{padding:5px 20px 0 0;color:#444}.pads{text-align:left;max-width:200px}</style> <div class=\"pmoabs\" id=\"pmocntr2\" style=\"behavior:url(#default#userdata);display:none\"> <table border=\"0\"> <tr> <td colspan=\"2\"> <div class=\"xbtn\" onclick=\"google.promos&&google.promos.toast&& google.promos.toast.cpc()\" style=\"float:right\">&times;</div> </td> </tr> <tr> <td class=\"padi\" rowspan=\"2\"> <img src=\"/images/icons/product/chrome-48.png\"> </td> <td class=\"pads\">A faster way to browse the web</td> </tr> <tr> <td class=\"padt\"> <div class=\"kd-button-submit\" id=\"pmolnk\"> <a href=\"/chrome/index.html?hl=en&amp;brand=CHNG&amp;utm_source=en-hpp&amp;utm_medium=hpp&amp;utm_campaign=en\" onclick=\"google.promos&&google.promos.toast&& google.promos.toast.cl()\">Install Google Chrome</a> </div> </td> </tr> </table> </div> <script type=\"text/javascript\">(function(){var a={o:{}};a.o.qa=50;a.o.oa=10;a.o.Y=\"body\";a.o.Oa=!0;a.o.Ra=function(b,c){var d=a.o.Ea();a.o.Ga(d,b,c);a.o.Sa(d);a.o.Oa&&a.o.Pa(d)};a.o.Sa=function(b){(b=a.o.$(b))&&0<b.forms.length&&b.forms[0].submit()};a.o.Ea=function(){var b=document.createElement(\"iframe\");b.height=0;b.width=0;b.style.overflow=\"hidden\";b.style.top=b.style.left=\"-100px\";b.style.position=\"absolute\";document.body.appendChild(b);return b};a.o.$=function(b){return b.contentDocument||b.contentWindow.document};a.o.Ga=function(b,c,d){b=a.o.$(b);b.open();d=[\"<\",a.o.Y,\\'><form method=POST action=\"\\',d,\\'\">\\'];for(var e in c)c.hasOwnProperty(e)&&d.push(\\'<textarea name=\"\\',e,\\'\">\\',c[e],\"</textarea>\");d.push(\"</form></\",a.o.Y,\">\");b.write(d.join(\"\"));b.close()};a.o.ba=function(b,c){c>a.o.oa?google&&google.ml&&google.ml(Error(\"ogcdr\"),!1,{cause:\"timeout\"}):b.contentWindow?a.o.Qa(b):window.setTimeout(function(){a.o.ba(b,c+1)},a.o.qa)};a.o.Qa=function(b){document.body.removeChild(b)};a.o.Pa=function(b){a.o.Ca(b,\"load\",function(){a.o.ba(b,0)})};a.o.Ca=function(b,c,d){b.addEventListener?b.addEventListener(c,d,!1):b.attachEvent&&b.attachEvent(\"on\"+c,d)};var m={Va:0,D:1,F:2,K:5};a.k={};a.k.M={ka:\"i\",J:\"d\",ma:\"l\"};a.k.A={N:\"0\",G:\"1\"};a.k.O={L:1,J:2,I:3};a.k.v={ea:\"a\",ia:\"g\",C:\"c\",ya:\"u\",xa:\"t\",N:\"p\",pa:\"pid\",ga:\"eid\",za:\"at\"};a.k.la=window.location.protocol+\"//www.google.com/_/og/promos/\";a.k.ha=\"g\";a.k.Aa=\"z\";a.k.S=function(b,c,d,e){var f=null;switch(c){case m.D:f=window.gbar.up.gpd(b,d,!0);break;case m.K:f=window.gbar.up.gcc(e)}return null==f?0:parseInt(f,10)};a.k.Ka=function(b,c,d){return c==m.D?null!=window.gbar.up.gpd(b,d,!0):!1};a.k.P=function(b,c,d,e,f,h,k,l){var g={};g[a.k.v.N]=b;g[a.k.v.ia]=c;g[a.k.v.ea]=d;g[a.k.v.za]=e;g[a.k.v.ga]=f;g[a.k.v.pa]=1;k&&(g[a.k.v.C]=k);l&&(g[a.k.v.ya]=l);if(h)g[a.k.v.xa]=h;else return google.ml(Error(\"knu\"),!1,{cause:\"Token is not found\"}),null;return g};a.k.V=function(b,c,d){if(b){var e=c?a.k.ha:a.k.Aa;c&&d&&(e+=\"?authuser=\"+d);a.o.Ra(b,a.k.la+e)}};a.k.Fa=function(b,c,d,e,f,h,k){b=a.k.P(c,b,a.k.M.J,a.k.O.J,d,f,null,e);a.k.V(b,h,k)};a.k.Ia=function(b,c,d,e,f,h,k){b=a.k.P(c,b,a.k.M.ka,a.k.O.L,d,f,e,null);a.k.V(b,h,k)};a.k.Na=function(b,c,d,e,f,h,k,l,g,n){switch(c){case m.K:window.gbar.up.dpc(e,f);break;case m.D:window.gbar.up.spd(b,d,1,!0);break;case m.F:g=g||!1,l=l||\"\",h=h||0,k=k||a.k.A.G,n=n||0,a.k.Fa(e,h,k,f,l,g,n)}};a.k.La=function(b,c,d,e,f){return c==m.D?0<d&&a.k.S(b,c,e,f)>=d:!1};a.k.Ha=function(b,c,d,e,f,h,k,l,g,n){switch(c){case m.K:window.gbar.up.iic(e,f);break;case m.D:c=a.k.S(b,c,d,e)+1;window.gbar.up.spd(b,d,c.toString(),!0);break;case m.F:g=g||!1,l=l||\"\",h=h||0,k=k||a.k.A.N,n=n||0,a.k.Ia(e,h,k,1,l,g,n)}};a.k.Ma=function(b,c,d,e,f,h){b=a.k.P(c,b,a.k.M.ma,a.k.O.I,d,e,null,null);a.k.V(b,f,h)};var p={Ta:\"a\",Wa:\"l\",Ua:\"c\",fa:\"d\",I:\"h\",L:\"i\",gb:\"n\",G:\"x\",cb:\"ma\",eb:\"mc\",fb:\"mi\",Xa:\"pa\",Ya:\"pc\",$a:\"pi\",bb:\"pn\",ab:\"px\",Za:\"pd\",hb:\"gpa\",jb:\"gpi\",kb:\"gpn\",lb:\"gpx\",ib:\"gpd\"};a.i={};a.i.s={na:\"hplogo\",wa:\"pmocntr2\"};a.i.A={va:\"0\",G:\"1\",da:\"2\"};a.i.p=document.getElementById(a.i.s.wa);a.i.ja=16;a.i.ra=2;a.i.ta=20;google.promos=google.promos||{};google.promos.toast=google.promos.toast||{};a.i.H=function(b){a.i.p&&(a.i.p.style.display=b?\"\":\"none\",a.i.p.parentNode&&(a.i.p.parentNode.style.position=b?\"relative\":\"\"))};a.i.ca=function(b){try{if(a.i.p&&b&&b.es&&b.es.m){var c=window.gbar.rtl(document.body)?\"left\":\"right\";a.i.p.style[c]=b.es.m-a.i.ja+a.i.ra+\"px\";a.i.p.style.top=a.i.ta+\"px\"}}catch(d){google.ml(d,!1,{cause:a.i.w+\"_PT\"})}};google.promos.toast.cl=function(){try{a.i.Q==m.F&&a.k.Ma(a.i.T,a.i.B,a.i.A.da,a.i.X,a.i.U,a.i.W),window.gbar.up.sl(a.i.B,a.i.w,p.I,a.i.R(),1)}catch(b){google.ml(b,!1,{cause:a.i.w+\"_CL\"})}};google.promos.toast.cpc=function(){try{a.i.p&&(a.i.H(!1),a.k.Na(a.i.p,a.i.Q,a.i.s.Z,a.i.T,a.i.Da,a.i.B,a.i.A.G,a.i.X,a.i.U,a.i.W),window.gbar.up.sl(a.i.B,a.i.w,p.fa,a.i.R(),1))}catch(b){google.ml(b,!1,{cause:a.i.w+\"_CPC\"})}};a.i.aa=function(){try{if(a.i.p){var b=276,c=document.getElementById(a.i.s.na);c&&(b=Math.max(b,c.offsetWidth));var d=parseInt(a.i.p.style.right,10)||0;a.i.p.style.visibility=2*(a.i.p.offsetWidth+d)+b>document.body.clientWidth?\"hidden\":\"\"}}catch(e){google.ml(e,!1,{cause:a.i.w+\"_HOSW\"})}};a.i.Ba=function(){var b=[\"gpd\",\"spd\",\"aeh\",\"sl\"];if(!window.gbar||!window.gbar.up)return!1;for(var c=0,d;d=b[c];c++)if(!(d in window.gbar.up))return!1;return!0};a.i.Ja=function(){return a.i.p.currentStyle&&\"absolute\"!=a.i.p.currentStyle.position};google.promos.toast.init=function(b,c,d,e,f,h,k,l,g,n,q,r){try{a.i.Ba()?a.i.p&&(e==m.F&&!l==!g?(google.ml(Error(\"tku\"),!1,{cause:\"zwieback: \"+g+\", gaia: \"+l}),a.i.H(!1)):(a.i.s.C=\"toast_count_\"+c+(q?\"_\"+q:\"\"),a.i.s.Z=\"toast_dp_\"+c+(r?\"_\"+r:\"\"),a.i.w=d,a.i.B=b,a.i.Q=e,a.i.T=c,a.i.Da=f,a.i.X=l?l:g,a.i.U=!!l,a.i.W=k,a.k.Ka(a.i.p,e,a.i.s.Z,c)||a.k.La(a.i.p,e,h,a.i.s.C,c)||a.i.Ja()?a.i.H(!1):(a.k.Ha(a.i.p,e,a.i.s.C,c,f,a.i.B,a.i.A.va,a.i.X,a.i.U,a.i.W),n||(window.gbar.up.aeh(window,\"resize\",a.i.aa),window.lol=\\na.i.aa,window.gbar.elr&&a.i.ca(window.gbar.elr()),window.gbar.elc&&window.gbar.elc(a.i.ca),a.i.H(!0)),window.gbar.up.sl(a.i.B,a.i.w,p.L,a.i.R())))):google.ml(Error(\"apa\"),!1,{cause:a.i.w+\"_INIT\"})}catch(t){google.ml(t,!1,{cause:a.i.w+\"_INIT\"})}};a.i.R=function(){var b=a.k.S(a.i.p,a.i.Q,a.i.s.C,a.i.T);return\"ic=\"+b};})();</script> <script type=\"text/javascript\">(function(){var sourceWebappPromoID=144002;var sourceWebappGroupID=5;var payloadType=5;var cookieMaxAgeSec=2592000;var dismissalType=5;var impressionCap=25;var gaiaXsrfToken=\\'\\';var zwbkXsrfToken=\\'\\';var kansasDismissalEnabled=false;var sessionIndex=0;var invisible=false;window.gbar&&gbar.up&&gbar.up.r&&gbar.up.r(payloadType,function(show){if (show){google.promos.toast.init(sourceWebappPromoID,sourceWebappGroupID,payloadType,dismissalType,cookieMaxAgeSec,impressionCap,sessionIndex,gaiaXsrfToken,zwbkXsrfToken,invisible,\\'0612\\');}\\n});})();</script> </div> </span><br clear=\"all\" id=\"lgpd\"><div id=\"lga\"><img alt=\"Google\" height=\"95\" src=\"/images/srpr/logo9w.png\" style=\"padding:28px 0 14px\" width=\"269\" id=\"hplogo\" onload=\"window.lol&&lol()\"><br><br></div><form action=\"/search\" name=\"f\"><table cellpadding=\"0\" cellspacing=\"0\"><tr valign=\"top\"><td width=\"25%\">&nbsp;</td><td align=\"center\" nowrap=\"\"><input name=\"ie\" value=\"ISO-8859-1\" type=\"hidden\"><input value=\"en\" name=\"hl\" type=\"hidden\"><input name=\"source\" type=\"hidden\" value=\"hp\"><div class=\"ds\" style=\"height:32px;margin:4px 0\"><input style=\"color:#000;margin:0;padding:5px 8px 0 6px;vertical-align:top\" autocomplete=\"off\" class=\"lst\" value=\"\" title=\"Google Search\" maxlength=\"2048\" name=\"q\" size=\"57\"></div><br style=\"line-height:0\"><span class=\"ds\"><span class=\"lsbb\"><input class=\"lsb\" value=\"Google Search\" name=\"btnG\" type=\"submit\"></span></span><span class=\"ds\"><span class=\"lsbb\"><input class=\"lsb\" value=\"I\\'m Feeling Lucky\" name=\"btnI\" onclick=\"if(this.form.q.value)this.checked=1; else top.location=\\'/doodles/\\'\" type=\"submit\"></span></span></td><td class=\"fl sblc\" align=\"left\" nowrap=\"\" width=\"25%\"><a href=\"/advanced_search?hl=en&amp;authuser=0\">Advanced search</a><a href=\"/language_tools?hl=en&amp;authuser=0\">Language tools</a></td></tr></table><input id=\"gbv\" name=\"gbv\" type=\"hidden\" value=\"1\"></form><div id=\"gac_scont\"></div><div style=\"font-size:83%;min-height:3.5em\"><br></div><span id=\"footer\"><div style=\"font-size:10pt\"><div style=\"margin:19px auto;text-align:center\" id=\"fll\"><a href=\"/intl/en/ads/\">Advertising&nbsp;Programs</a><a href=\"/services/\">Business Solutions</a><a href=\"https://plus.google.com/116899029375914044550\" rel=\"publisher\">+Google</a><a href=\"/intl/en/about.html\">About Google</a></div></div><p style=\"color:#767676;font-size:8pt\">&copy; 2015 - <a href=\"/intl/en/policies/privacy/\">Privacy</a> - <a href=\"/intl/en/policies/terms/\">Terms</a></p></span></center><div id=\"xjsd\"></div><div id=\"xjsi\" data-jiis=\"bp\"><script>(function(){function c(b){window.setTimeout(function(){var a=document.createElement(\"script\");a.src=b;document.getElementById(\"xjsd\").appendChild(a)},0)}google.dljp=function(b,a){google.xjsu=b;c(a)};google.dlj=c;})();(function(){window.google.xjsrm=[];})();if(google.y)google.y.first=[];if(!google.xjs){window._=window._||{};window._._DumpException=function(e){throw e};if(google.timers&&google.timers.load.t){google.timers.load.t.xjsls=new Date().getTime();}google.dljp(\\'/xjs/_/js/k\\\\x3dxjs.hp.en_US.n3_mzAr3_Yc.O/m\\\\x3dsb_he,d/rt\\\\x3dj/d\\\\x3d1/t\\\\x3dzcms/rs\\\\x3dACT90oHQWmzo3RD0Vkp_abygcs3cNxmhFg\\',\\'/xjs/_/js/k\\\\x3dxjs.hp.en_US.n3_mzAr3_Yc.O/m\\\\x3dsb_he,d/rt\\\\x3dj/d\\\\x3d1/t\\\\x3dzcms/rs\\\\x3dACT90oHQWmzo3RD0Vkp_abygcs3cNxmhFg\\');google.xjs=1;}google.pmc={\"sb_he\":{\"agen\":true,\"cgen\":true,\"client\":\"heirloom-hp\",\"dh\":true,\"ds\":\"\",\"exp\":\"msedr\",\"fl\":true,\"host\":\"google.com\",\"jam\":0,\"jsonp\":true,\"msgs\":{\"cibl\":\"Clear Search\",\"dym\":\"Did you mean:\",\"lcky\":\"I\\\\u0026#39;m Feeling Lucky\",\"lml\":\"Learn more\",\"oskt\":\"Input tools\",\"psrc\":\"This search was removed from your \\\\u003Ca href=\\\\\"/history\\\\\"\\\\u003EWeb History\\\\u003C/a\\\\u003E\",\"psrl\":\"Remove\",\"sbit\":\"Search by image\",\"srch\":\"Google Search\"},\"ovr\":{},\"pq\":\"\",\"refoq\":true,\"refpd\":true,\"rfs\":[],\"scd\":10,\"sce\":5,\"stok\":\"aQqbPPPSF7vusvHq-JTC90T6KI0\"},\"d\":{}};google.y.first.push(function(){if(google.med){google.med(\\'init\\');google.initHistory();google.med(\\'history\\');}});if(google.j&&google.j.en&&google.j.xi){window.setTimeout(google.j.xi,0);}\\n</script></div></body></html>'"
       ]
      }
     ],
     "prompt_number": 8
    },
    {
     "cell_type": "code",
     "collapsed": false,
     "input": [
      "# Download\n",
      "urllib.urlretrieve('http://google.com/intl/en_All/images/logo.gif', 'blah.gif')"
     ],
     "language": "python",
     "metadata": {},
     "outputs": [
      {
       "metadata": {},
       "output_type": "pyout",
       "prompt_number": 9,
       "text": [
        "('blah.gif', <httplib.HTTPMessage instance at 0x0000000003F8CA88>)"
       ]
      }
     ],
     "prompt_number": 9
    },
    {
     "cell_type": "code",
     "collapsed": false,
     "input": [
      "!ls"
     ],
     "language": "python",
     "metadata": {},
     "outputs": [
      {
       "output_type": "stream",
       "stream": "stdout",
       "text": [
        "babynames.py\n",
        "babynames.pyc\n",
        "blah.gif\n"
       ]
      }
     ],
     "prompt_number": 10
    }
   ],
   "metadata": {}
  }
 ]
}