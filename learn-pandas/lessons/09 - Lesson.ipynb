{
 "metadata": {
  "name": "",
  "signature": "sha256:6b5008c755d30d371be5be626b3d96a1d032f4d1287f57496d86ebbeb2bcee22"
 },
 "nbformat": 3,
 "nbformat_minor": 0,
 "worksheets": [
  {
   "cells": [
    {
     "cell_type": "markdown",
     "metadata": {},
     "source": [
      "# Lesson 9  \n",
      "\n",
      "Export data from a microdost sql database to cvs, excel, and txt."
     ]
    },
    {
     "cell_type": "code",
     "collapsed": false,
     "input": [
      "# Import libraries\n",
      "import pandas as pd\n",
      "import sys\n",
      "from sqlalchemy import create_engine, MetaData, Table, select"
     ],
     "language": "python",
     "metadata": {},
     "outputs": [],
     "prompt_number": 1
    },
    {
     "cell_type": "code",
     "collapsed": false,
     "input": [
      "print 'Python version ' + sys.version\n",
      "print 'Pandas version: ' + pd.__version__"
     ],
     "language": "python",
     "metadata": {},
     "outputs": [
      {
       "output_type": "stream",
       "stream": "stdout",
       "text": [
        "Python version 2.7.5 |Anaconda 2.1.0 (64-bit)| (default, Jul  1 2013, 12:37:52) [MSC v.1500 64 bit (AMD64)]\n",
        "Pandas version: 0.15.2\n"
       ]
      }
     ],
     "prompt_number": 2
    },
    {
     "cell_type": "markdown",
     "metadata": {},
     "source": [
      "# Grab Data from SQL  \n",
      "\n",
      "In this section we use the ***sqlalchemy*** library to grab data from a sql database. Note that the parameter section will need to be modified."
     ]
    },
    {
     "cell_type": "code",
     "collapsed": false,
     "input": [
      "# Parameters\n",
      "ServerName = \"RepSer2\"\n",
      "Database = \"BizIntel\"\n",
      "TableName = \"DimDate\"\n",
      "\n",
      "# Create the connection\n",
      "engine = create_engine('mssql+pyodbc://' + ServerName + '/' + Database)\n",
      "conn = engine.connect()\n",
      "\n",
      "# Required for querying tables\n",
      "metadata = MetaData(conn)\n",
      "\n",
      "# Table to query\n",
      "tbl = Table(TableName, metadata, autoload=True, schema=\"dbo\")\n",
      "#tbl.create(checkfirst=True)\n",
      "\n",
      "# Select all\n",
      "sql = tbl.select()\n",
      "\n",
      "# run sql code\n",
      "result = conn.execute(sql)\n",
      "\n",
      "# Insert to a dataframe\n",
      "df = pd.DataFrame(data=list(result), columns=result.keys())\n",
      "\n",
      "# Close connection\n",
      "conn.close()\n",
      "\n",
      "print 'Done'"
     ],
     "language": "python",
     "metadata": {},
     "outputs": [
      {
       "output_type": "stream",
       "stream": "stdout",
       "text": [
        "Done\n"
       ]
      }
     ],
     "prompt_number": 3
    },
    {
     "cell_type": "markdown",
     "metadata": {},
     "source": [
      "All the files below will be saved to the same folder the notebook resides in."
     ]
    },
    {
     "cell_type": "markdown",
     "metadata": {},
     "source": [
      "# Export to CSV\n"
     ]
    },
    {
     "cell_type": "code",
     "collapsed": false,
     "input": [
      "df.to_csv('DimDate.csv', index=False)\n",
      "print 'Done'"
     ],
     "language": "python",
     "metadata": {},
     "outputs": [
      {
       "output_type": "stream",
       "stream": "stdout",
       "text": [
        "Done\n"
       ]
      }
     ],
     "prompt_number": 4
    },
    {
     "cell_type": "markdown",
     "metadata": {},
     "source": [
      "# Export to EXCEL"
     ]
    },
    {
     "cell_type": "code",
     "collapsed": false,
     "input": [
      "df.to_excel('DimDate.xls', index=False)\n",
      "print 'Done'"
     ],
     "language": "python",
     "metadata": {},
     "outputs": [
      {
       "output_type": "stream",
       "stream": "stdout",
       "text": [
        "Done\n"
       ]
      }
     ],
     "prompt_number": 5
    },
    {
     "cell_type": "markdown",
     "metadata": {},
     "source": [
      "# Export to TXT"
     ]
    },
    {
     "cell_type": "code",
     "collapsed": false,
     "input": [
      "df.to_csv('DimDate.txt', index=False)\n",
      "print 'Done'"
     ],
     "language": "python",
     "metadata": {},
     "outputs": [
      {
       "output_type": "stream",
       "stream": "stdout",
       "text": [
        "Done\n"
       ]
      }
     ],
     "prompt_number": 6
    },
    {
     "cell_type": "markdown",
     "metadata": {},
     "source": [
      "**Author:** [David Rojas](http://www.hedaro.com/)"
     ]
    }
   ],
   "metadata": {}
  }
 ]
}