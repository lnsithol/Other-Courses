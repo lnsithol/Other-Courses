{
 "metadata": {
  "name": "",
  "signature": "sha256:474918f31d7e0e1905a9be40acc03ecbc7f514fe11e772be152c87b5181a10ce"
 },
 "nbformat": 3,
 "nbformat_minor": 0,
 "worksheets": [
  {
   "cells": [
    {
     "cell_type": "markdown",
     "metadata": {},
     "source": [
      "#Table of Contents\n",
      "* [Dict Hash Table ](#Dict-Hash-Table)\n",
      "\t* [Get](#Get)\n",
      "\t* [In](#In)\n",
      "\t* [keys()](#keys%28%29)\n",
      "\t* [values()](#values%28%29)\n",
      "\t* [items()](#items%28%29)\n",
      "* [Files](#Files)\n",
      "\t* [open()](#open%28%29)\n",
      "\t* [readLines()](#readLines%28%29)\n",
      "\t* [read()](#read%28%29)\n"
     ]
    },
    {
     "cell_type": "markdown",
     "metadata": {},
     "source": [
      "URL:\n",
      "- https://developers.google.com/edu/python/dict-files"
     ]
    },
    {
     "cell_type": "heading",
     "level": 1,
     "metadata": {},
     "source": [
      "Dict Hash Table "
     ]
    },
    {
     "cell_type": "markdown",
     "metadata": {},
     "source": [
      "### (dict = hash table)\n",
      "\n",
      "Python's efficient key/value hash table structure is called a \"dict\". The contents of a dict can be written as a series of key:value pairs within braces { }, e.g. dict = {key1:value1, key2:value2, ... }. The \"empty dict\" is just an empty pair of curly braces {}.\n",
      "\n",
      "Looking up or setting a value in a dict uses square brackets, e.g. dict['foo'] looks up the value under the key 'foo'. Strings, numbers, and tuples work as keys, and any type can be a value. Other types may or may not work correctly as keys (strings and tuples work cleanly since they are immutable). Looking up a value which is not in the dict throws a KeyError -- use \"in\" to check if the key is in the dict, or use dict.get(key) which returns the value or None if the key is not present (or get(key, not-found) allows you to specify what value to return in the not-found case)."
     ]
    },
    {
     "cell_type": "code",
     "collapsed": false,
     "input": [
      "d= {}\n",
      "d['a'] = 'alpha'\n",
      "d['o'] = 'omega'\n",
      "d['g'] = 'gamma'\n",
      "\n",
      "d['a']"
     ],
     "language": "python",
     "metadata": {},
     "outputs": [
      {
       "metadata": {},
       "output_type": "pyout",
       "prompt_number": 2,
       "text": [
        "'alpha'"
       ]
      }
     ],
     "prompt_number": 2
    },
    {
     "cell_type": "heading",
     "level": 2,
     "metadata": {},
     "source": [
      "Get"
     ]
    },
    {
     "cell_type": "code",
     "collapsed": false,
     "input": [
      "d.get('x') # None when there is no values"
     ],
     "language": "python",
     "metadata": {},
     "outputs": [],
     "prompt_number": 3
    },
    {
     "cell_type": "code",
     "collapsed": false,
     "input": [
      "d.get('a')"
     ],
     "language": "python",
     "metadata": {},
     "outputs": [
      {
       "metadata": {},
       "output_type": "pyout",
       "prompt_number": 4,
       "text": [
        "'alpha'"
       ]
      }
     ],
     "prompt_number": 4
    },
    {
     "cell_type": "heading",
     "level": 2,
     "metadata": {},
     "source": [
      "In"
     ]
    },
    {
     "cell_type": "code",
     "collapsed": false,
     "input": [
      "'a' in d"
     ],
     "language": "python",
     "metadata": {},
     "outputs": [
      {
       "metadata": {},
       "output_type": "pyout",
       "prompt_number": 5,
       "text": [
        "True"
       ]
      }
     ],
     "prompt_number": 5
    },
    {
     "cell_type": "code",
     "collapsed": false,
     "input": [
      "'x' in d"
     ],
     "language": "python",
     "metadata": {},
     "outputs": [
      {
       "metadata": {},
       "output_type": "pyout",
       "prompt_number": 6,
       "text": [
        "False"
       ]
      }
     ],
     "prompt_number": 6
    },
    {
     "cell_type": "heading",
     "level": 2,
     "metadata": {},
     "source": [
      "keys()"
     ]
    },
    {
     "cell_type": "code",
     "collapsed": false,
     "input": [
      "d.keys()"
     ],
     "language": "python",
     "metadata": {},
     "outputs": [
      {
       "metadata": {},
       "output_type": "pyout",
       "prompt_number": 7,
       "text": [
        "['a', 'g', 'o']"
       ]
      }
     ],
     "prompt_number": 7
    },
    {
     "cell_type": "heading",
     "level": 2,
     "metadata": {},
     "source": [
      "values()"
     ]
    },
    {
     "cell_type": "code",
     "collapsed": false,
     "input": [
      "d.values()"
     ],
     "language": "python",
     "metadata": {},
     "outputs": [
      {
       "metadata": {},
       "output_type": "pyout",
       "prompt_number": 8,
       "text": [
        "['alpha', 'gamma', 'omega']"
       ]
      }
     ],
     "prompt_number": 8
    },
    {
     "cell_type": "code",
     "collapsed": false,
     "input": [
      "for k in sorted(d.keys()): print 'key:', k, '->', d[k]"
     ],
     "language": "python",
     "metadata": {},
     "outputs": [
      {
       "output_type": "stream",
       "stream": "stdout",
       "text": [
        "key: a -> alpha\n",
        "key: g -> gamma\n",
        "key: o -> omega\n"
       ]
      }
     ],
     "prompt_number": 10
    },
    {
     "cell_type": "heading",
     "level": 2,
     "metadata": {},
     "source": [
      "items()"
     ]
    },
    {
     "cell_type": "markdown",
     "metadata": {},
     "source": [
      "#### Pulling both keys and values"
     ]
    },
    {
     "cell_type": "code",
     "collapsed": false,
     "input": [
      "d.items()"
     ],
     "language": "python",
     "metadata": {},
     "outputs": [
      {
       "metadata": {},
       "output_type": "pyout",
       "prompt_number": 11,
       "text": [
        "[('a', 'alpha'), ('g', 'gamma'), ('o', 'omega')]"
       ]
      }
     ],
     "prompt_number": 11
    },
    {
     "cell_type": "code",
     "collapsed": false,
     "input": [
      "for tuple in d.items(): print tuple"
     ],
     "language": "python",
     "metadata": {},
     "outputs": [
      {
       "output_type": "stream",
       "stream": "stdout",
       "text": [
        "('a', 'alpha')\n",
        "('g', 'gamma')\n",
        "('o', 'omega')\n"
       ]
      }
     ],
     "prompt_number": 12
    },
    {
     "cell_type": "heading",
     "level": 1,
     "metadata": {},
     "source": [
      "Files"
     ]
    },
    {
     "cell_type": "heading",
     "level": 2,
     "metadata": {},
     "source": [
      "open()"
     ]
    },
    {
     "cell_type": "code",
     "collapsed": false,
     "input": [
      "def Cat(filename):\n",
      "    f = open(filename, 'rU')\n",
      "    for line in f:\n",
      "        print line,\n",
      "    f.close()"
     ],
     "language": "python",
     "metadata": {},
     "outputs": [],
     "prompt_number": 18
    },
    {
     "cell_type": "code",
     "collapsed": false,
     "input": [
      "Cat('C:/Vindico/Projects/Code/Python/Python/Course/Google/Exercise/basic/small.txt')"
     ],
     "language": "python",
     "metadata": {},
     "outputs": [
      {
       "output_type": "stream",
       "stream": "stdout",
       "text": [
        "We are not what we should be\n",
        "We are not what we need to be\n",
        "But at least we are not what we used to be\n",
        "  -- Football Coach\n",
        "\n"
       ]
      }
     ],
     "prompt_number": 20
    },
    {
     "cell_type": "heading",
     "level": 2,
     "metadata": {},
     "source": [
      "readLines()"
     ]
    },
    {
     "cell_type": "markdown",
     "metadata": {},
     "source": [
      "#### read each lines of the files"
     ]
    },
    {
     "cell_type": "code",
     "collapsed": false,
     "input": [
      "def Cat(filename):\n",
      "    f = open(filename, 'rU')\n",
      "    lines = f.readlines()\n",
      "    print lines\n",
      "    f.close()"
     ],
     "language": "python",
     "metadata": {},
     "outputs": [],
     "prompt_number": 23
    },
    {
     "cell_type": "code",
     "collapsed": false,
     "input": [
      "Cat('C:/Vindico/Projects/Code/Python/Python/Course/Google/Exercise/basic/small.txt')"
     ],
     "language": "python",
     "metadata": {},
     "outputs": [
      {
       "output_type": "stream",
       "stream": "stdout",
       "text": [
        "['We are not what we should be\\n', 'We are not what we need to be\\n', 'But at least we are not what we used to be\\n', '  -- Football Coach\\n', '\\n']\n"
       ]
      }
     ],
     "prompt_number": 24
    },
    {
     "cell_type": "heading",
     "level": 2,
     "metadata": {},
     "source": [
      "read()"
     ]
    },
    {
     "cell_type": "markdown",
     "metadata": {},
     "source": [
      "#### read the text file"
     ]
    },
    {
     "cell_type": "code",
     "collapsed": false,
     "input": [
      "def Cat(filename):\n",
      "    f = open(filename, 'rU')\n",
      "    text = f.read()\n",
      "    print text,\n",
      "    f.close()"
     ],
     "language": "python",
     "metadata": {},
     "outputs": [],
     "prompt_number": 25
    },
    {
     "cell_type": "code",
     "collapsed": false,
     "input": [
      "Cat('C:/Vindico/Projects/Code/Python/Python/Course/Google/Exercise/basic/small.txt')"
     ],
     "language": "python",
     "metadata": {},
     "outputs": [
      {
       "output_type": "stream",
       "stream": "stdout",
       "text": [
        "We are not what we should be\n",
        "We are not what we need to be\n",
        "But at least we are not what we used to be\n",
        "  -- Football Coach\n",
        "\n"
       ]
      }
     ],
     "prompt_number": 26
    }
   ],
   "metadata": {}
  }
 ]
}